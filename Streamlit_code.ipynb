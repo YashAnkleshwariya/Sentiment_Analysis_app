{
 "cells": [
  {
   "cell_type": "code",
   "execution_count": 1,
   "id": "f13ee998",
   "metadata": {},
   "outputs": [
    {
     "name": "stderr",
     "output_type": "stream",
     "text": [
      "2023-05-17 18:06:48.873 \n",
      "  \u001b[33m\u001b[1mWarning:\u001b[0m to view this Streamlit app on a browser, run it with the following\n",
      "  command:\n",
      "\n",
      "    streamlit run C:\\Users\\admin\\anaconda3\\lib\\site-packages\\ipykernel_launcher.py [ARGUMENTS]\n"
     ]
    }
   ],
   "source": [
    "import streamlit as st\n",
    "import joblib\n",
    "\n",
    "\n",
    "# Load the saved model\n",
    "model = joblib.load(\"nb_model.joblib\")\n",
    "\n",
    "#Streamlit app code\n",
    "st.title(\" Chatgpt tweet Sentiment Analysis App\")\n",
    "\n",
    "st.header(\" \")\n",
    "\n",
    "#Input text from the user\n",
    "user_input = st.text_area(\" \", height=100)\n",
    "\n",
    "#creat predict button\n",
    "if st.button(\"Predict\"):\n",
    "    #Preprocess the input text using the loded COuntorlizer\n",
    "    text_dtm = model['vect'].transform([user_input])\n",
    "    \n",
    "    #Make Prediction\n",
    "    prediction = model['nb'].predict(text_dtm)\n",
    "    \n",
    "    st.header(\"Prediction\")\n",
    "    #Display the pridiction sentiment\n",
    "    if prediction == 0:\n",
    "        st.subheader(\"Negative Sentiment\")\n",
    "    elif prediction == 1:\n",
    "        st.subheader(\"Netural Sentiment\")\n",
    "    elif prediction == 2:\n",
    "        st.subheader(\"Positive Sentiment\")\n",
    "   "
   ]
  },
  {
   "cell_type": "code",
   "execution_count": null,
   "id": "2e804cd2",
   "metadata": {},
   "outputs": [],
   "source": []
  }
 ],
 "metadata": {
  "kernelspec": {
   "display_name": "Python 3 (ipykernel)",
   "language": "python",
   "name": "python3"
  },
  "language_info": {
   "codemirror_mode": {
    "name": "ipython",
    "version": 3
   },
   "file_extension": ".py",
   "mimetype": "text/x-python",
   "name": "python",
   "nbconvert_exporter": "python",
   "pygments_lexer": "ipython3",
   "version": "3.10.9"
  }
 },
 "nbformat": 4,
 "nbformat_minor": 5
}
