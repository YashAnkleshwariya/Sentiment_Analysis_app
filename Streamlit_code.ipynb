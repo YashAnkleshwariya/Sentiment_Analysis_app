{
 "cells": [
  {
   "cell_type": "code",
   "execution_count": 1,
   "id": "f13ee998",
   "metadata": {},
   "outputs": [
    {
     "ename": "ModuleNotFoundError",
     "evalue": "No module named 'joblit'",
     "output_type": "error",
     "traceback": [
      "\u001b[1;31m---------------------------------------------------------------------------\u001b[0m",
      "\u001b[1;31mModuleNotFoundError\u001b[0m                       Traceback (most recent call last)",
      "Cell \u001b[1;32mIn[1], line 2\u001b[0m\n\u001b[0;32m      1\u001b[0m \u001b[38;5;28;01mimport\u001b[39;00m \u001b[38;5;21;01mstreamlit\u001b[39;00m \u001b[38;5;28;01mas\u001b[39;00m \u001b[38;5;21;01mst\u001b[39;00m\n\u001b[1;32m----> 2\u001b[0m \u001b[38;5;28;01mimport\u001b[39;00m \u001b[38;5;21;01mjoblit\u001b[39;00m\n\u001b[0;32m      3\u001b[0m \u001b[38;5;28;01mimport\u001b[39;00m \u001b[38;5;21;01mmatplotlib\u001b[39;00m\u001b[38;5;21;01m.\u001b[39;00m\u001b[38;5;21;01mpyplot\u001b[39;00m \u001b[38;5;28;01mas\u001b[39;00m \u001b[38;5;21;01mplt\u001b[39;00m\n\u001b[0;32m      4\u001b[0m \u001b[38;5;28;01mfrom\u001b[39;00m \u001b[38;5;21;01mwordcloud\u001b[39;00m \u001b[38;5;28;01mimport\u001b[39;00m WordCloud\n",
      "\u001b[1;31mModuleNotFoundError\u001b[0m: No module named 'joblit'"
     ]
    }
   ],
   "source": [
    "import streamlit as st\n",
    "import joblit\n",
    "import matplotlib.pyplot as plt\n",
    "from wordcloud import WordCloud\n",
    "\n",
    "#Load the saved model\n",
    "model = joblib.load(\"nb_model.joblib\")\n",
    "\n",
    "#Streamlit app code\n",
    "st.titel(\"Chatgpt Tweets Sentiment Analysis App\")\n",
    "\n",
    "st.header(\"Enter the tweet here\")\n",
    "\n",
    "#Input text from the user\n",
    "user_input = st.text_area(\"\", height=100)\n",
    "\n",
    "#creat predict button\n",
    "if st.button(\"Predict\"):\n",
    "    #Preprocess the input text using the loded COuntorlizer\n",
    "    text_dtm = model['vect'].transform([user_input])\n",
    "    \n",
    "    #Make Prediction\n",
    "    prediction = model['nb'].predict(text_dtm)\n",
    "    \n",
    "    st.header(\"Prediction\")\n",
    "    #Display the pridiction sentiment\n",
    "    if prediction == 0:\n",
    "        st.subheader(\"Negative Sentiment\")\n",
    "    elif prediction == 1:\n",
    "        st.subheader(\"Netural Sentiment\")\n",
    "    elif prediction == 2:\n",
    "        st.subheader(\"Positive Sentiment\")\n",
    "    \n",
    "    # Generate word cloud for the input text\n",
    "    words = model['vect'].get_feature_names()\n",
    "    word_freq = text_dtm.toarray()[0]\n",
    "    word_cloud_data = dict(zip(words, word_freq))\n",
    "\n",
    "    wc = WordCloud(background_color='white')\n",
    "    wc.generate_from_frequencies(word_cloud_data)\n",
    "\n",
    "    st.header(\"Word Cloud\")\n",
    "    # Display the word cloud\n",
    "    plt.figure(figsize=(10, 6))\n",
    "    plt.imshow(wc, interpolation='bilinear')\n",
    "    plt.axis(\"off\")\n",
    "    st.pyplot(plt)"
   ]
  }
 ],
 "metadata": {
  "kernelspec": {
   "display_name": "Python 3 (ipykernel)",
   "language": "python",
   "name": "python3"
  },
  "language_info": {
   "codemirror_mode": {
    "name": "ipython",
    "version": 3
   },
   "file_extension": ".py",
   "mimetype": "text/x-python",
   "name": "python",
   "nbconvert_exporter": "python",
   "pygments_lexer": "ipython3",
   "version": "3.10.9"
  }
 },
 "nbformat": 4,
 "nbformat_minor": 5
}
