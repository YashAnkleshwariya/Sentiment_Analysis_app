{
 "cells": [
  {
   "cell_type": "code",
   "execution_count": 2,
   "id": "f13ee998",
   "metadata": {},
   "outputs": [
    {
     "name": "stderr",
     "output_type": "stream",
     "text": [
      "2023-05-15 15:57:53.764 \n",
      "  \u001b[33m\u001b[1mWarning:\u001b[0m to view this Streamlit app on a browser, run it with the following\n",
      "  command:\n",
      "\n",
      "    streamlit run C:\\Users\\admin\\anaconda3\\lib\\site-packages\\ipykernel_launcher.py [ARGUMENTS]\n",
      "2023-05-15 15:57:53.765 `label` got an empty value. This is discouraged for accessibility reasons and may be disallowed in the future by raising an exception. Please provide a non-empty label and hide it with label_visibility if needed.\n"
     ]
    }
   ],
   "source": [
    "import streamlit as st\n",
    "import joblib\n",
    "import matplotlib.pyplot as plt\n",
    "from wordcloud import WordCloud\n",
    "\n",
    "#Load the saved model\n",
    "model = joblib.load(\"nb_model.joblib\")\n",
    "\n",
    "#Streamlit app code\n",
    "st.title(\"Chatgpt Tweets Sentiment Analysis App\")\n",
    "\n",
    "st.header(\"Enter the tweet here\")\n",
    "\n",
    "#Input text from the user\n",
    "user_input = st.text_area(\"\", height=100)\n",
    "\n",
    "#creat predict button\n",
    "if st.button(\"Predict\"):\n",
    "    #Preprocess the input text using the loded COuntorlizer\n",
    "    text_dtm = model['vect'].transform([user_input])\n",
    "    \n",
    "    #Make Prediction\n",
    "    prediction = model['nb'].predict(text_dtm)\n",
    "    \n",
    "    st.header(\"Prediction\")\n",
    "    #Display the pridiction sentiment\n",
    "    if prediction == 0:\n",
    "        st.subheader(\"Negative Sentiment\")\n",
    "    elif prediction == 1:\n",
    "        st.subheader(\"Netural Sentiment\")\n",
    "    elif prediction == 2:\n",
    "        st.subheader(\"Positive Sentiment\")\n",
    "    \n",
    "    # Generate word cloud for the input text\n",
    "    words = model['vect'].get_feature_names()\n",
    "    word_freq = text_dtm.toarray()[0]\n",
    "    word_cloud_data = dict(zip(words, word_freq))\n",
    "\n",
    "    wc = WordCloud(background_color='white')\n",
    "    wc.generate_from_frequencies(word_cloud_data)\n",
    "\n",
    "    st.header(\"Word Cloud\")\n",
    "    # Display the word cloud\n",
    "    plt.figure(figsize=(10, 6))\n",
    "    plt.imshow(wc, interpolation='bilinear')\n",
    "    plt.axis(\"off\")\n",
    "    st.pyplot(plt)"
   ]
  }
 ],
 "metadata": {
  "kernelspec": {
   "display_name": "Python 3 (ipykernel)",
   "language": "python",
   "name": "python3"
  },
  "language_info": {
   "codemirror_mode": {
    "name": "ipython",
    "version": 3
   },
   "file_extension": ".py",
   "mimetype": "text/x-python",
   "name": "python",
   "nbconvert_exporter": "python",
   "pygments_lexer": "ipython3",
   "version": "3.10.9"
  }
 },
 "nbformat": 4,
 "nbformat_minor": 5
}
